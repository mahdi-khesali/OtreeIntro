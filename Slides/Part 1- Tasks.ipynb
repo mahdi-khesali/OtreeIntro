{
 "cells": [
  {
   "cell_type": "code",
   "execution_count": 13,
   "id": "51a66868-3335-4a68-99d0-670da7a75c21",
   "metadata": {
    "editable": true,
    "slideshow": {
     "slide_type": ""
    },
    "tags": []
   },
   "outputs": [],
   "source": [
    "from IPython.display import display, Markdown, clear_output\n",
    "import ipywidgets as widgets\n",
    "\n",
    "####\n",
    "code_1_2 = \"\"\" \n",
    "    def NumberFunction(number):\n",
    "        return number**5\n",
    "\"\"\"\n",
    "button = widgets.Button(description=\"Show results\")\n",
    "output = widgets.Output()\n",
    "def on_button_clicked(b):\n",
    "    with output:\n",
    "        display(Markdown(code_1_2))\n",
    "button.on_click(on_button_clicked)"
   ]
  },
  {
   "cell_type": "markdown",
   "id": "7c5ee624-8990-4af1-8732-8c0d82b53906",
   "metadata": {
    "editable": true,
    "slideshow": {
     "slide_type": ""
    },
    "tags": []
   },
   "source": [
    "# Task 1-1 "
   ]
  },
  {
   "cell_type": "code",
   "execution_count": null,
   "id": "047aea94-ba3d-49fe-8e2d-5ae32afbb951",
   "metadata": {
    "editable": true,
    "slideshow": {
     "slide_type": ""
    },
    "tags": []
   },
   "outputs": [],
   "source": []
  },
  {
   "cell_type": "code",
   "execution_count": 2,
   "id": "3941600f-b9a4-4a4f-88c9-960945bba4d5",
   "metadata": {
    "editable": true,
    "slideshow": {
     "slide_type": ""
    },
    "tags": []
   },
   "outputs": [
    {
     "data": {
      "application/vnd.jupyter.widget-view+json": {
       "model_id": "6dd0acc1172240bcb78364d8c79e07c7",
       "version_major": 2,
       "version_minor": 0
      },
      "text/plain": [
       "VBox(children=(Label(value='You want to know about the typical payment in a lab. Whom should you ask?'), Radio…"
      ]
     },
     "metadata": {},
     "output_type": "display_data"
    },
    {
     "data": {
      "application/vnd.jupyter.widget-view+json": {
       "model_id": "d9ba06f93dd440f68879f5dae74bb2f0",
       "version_major": 2,
       "version_minor": 0
      },
      "text/plain": [
       "VBox(children=(Label(value='You find a flaw in the design that you are coding. Whom should you inform?'), Radi…"
      ]
     },
     "metadata": {},
     "output_type": "display_data"
    },
    {
     "data": {
      "application/vnd.jupyter.widget-view+json": {
       "model_id": "a91b41856f7e42c8887178ac0828a818",
       "version_major": 2,
       "version_minor": 0
      },
      "text/plain": [
       "VBox(children=(Label(value='Who should be fully informed about details in a protocol of an experiment ?'), Rad…"
      ]
     },
     "metadata": {},
     "output_type": "display_data"
    },
    {
     "data": {
      "application/vnd.jupyter.widget-view+json": {
       "model_id": "4a1ee9b5587b46bb90d619a58742f9f6",
       "version_major": 2,
       "version_minor": 0
      },
      "text/plain": [
       "VBox(children=(Label(value='The variable that you are interested in is not correctly stored in the data. Whom …"
      ]
     },
     "metadata": {},
     "output_type": "display_data"
    }
   ],
   "source": [
    "\n",
    "\n",
    "# Define the questions\n",
    "questions = [\n",
    "    {\n",
    "        \"question\": \"You want to know about the typical payment in a lab. Whom should you ask?\",\n",
    "        \"options\": [\"Researcher\", \"Lab manager\", \"Coder\", \"Experimenter\"],\n",
    "        \"answer\": \"Lab manager\"\n",
    "    },\n",
    "    {\n",
    "        \"question\": \"You find a flaw in the design that you are coding. Whom should you inform?\",\n",
    "        \"options\": [\"Researcher\", \"Lab manager\", \"Coder\", \"Experimenter\"],\n",
    "        \"answer\": \"Researcher\"\n",
    "    },\n",
    "        {\n",
    "        \"question\": \"Who should be fully informed about details in a protocol of an experiment ?\",\n",
    "        \"options\": [\"Researcher\", \"Lab manager\", \"Coder\", \"Experimenter\"],\n",
    "        \"answer\": \"Experimenter\"\n",
    "    },\n",
    "    {\n",
    "        \"question\": \"The variable that you are interested in is not correctly stored in the data. Whom should you ask to solve the problem?\",\n",
    "        \"options\": [\"Researcher\", \"Lab manager\", \"Coder\", \"Experimenter\"],\n",
    "        \"answer\": \"Coder\"\n",
    "    }\n",
    "]\n",
    "\n",
    "# Function to display each question\n",
    "def display_question(question, options, answer):\n",
    "    output = widgets.Output()\n",
    "    \n",
    "    radio_buttons = widgets.RadioButtons(\n",
    "        options=options,\n",
    "        description='',\n",
    "        disabled=False\n",
    "    )\n",
    "\n",
    "    def check_answer(b):\n",
    "        if radio_buttons.value == answer:\n",
    "            with output:\n",
    "                clear_output()\n",
    "                print(\"Correct!\")\n",
    "        else:\n",
    "            with output:\n",
    "                clear_output()\n",
    "                print(\"Incorrect. Try again.\")\n",
    "\n",
    "    check_button = widgets.Button(description=\"Check Answer\")\n",
    "    check_button.on_click(check_answer)\n",
    "\n",
    "    display(widgets.VBox([widgets.Label(value=question), radio_buttons, check_button, output]))\n",
    "\n",
    "# Loop through all questions and display them\n",
    "for q in questions:\n",
    "    display_question(q[\"question\"], q[\"options\"], q[\"answer\"])\n"
   ]
  },
  {
   "cell_type": "markdown",
   "id": "9d71813e-b6ab-4aef-886b-eb0b469c1505",
   "metadata": {
    "editable": true,
    "slideshow": {
     "slide_type": ""
    },
    "tags": []
   },
   "source": [
    "# Task 1-2\n",
    "- The following function show the result of a number to the power of $ \\frac{1}{2}$.\n",
    "- Change the function as such that it returns the number to the power of 5. "
   ]
  },
  {
   "cell_type": "code",
   "execution_count": 15,
   "id": "a55996ac-a161-4b46-94c5-4cd29a74e67c",
   "metadata": {
    "editable": true,
    "slideshow": {
     "slide_type": ""
    },
    "tags": []
   },
   "outputs": [
    {
     "data": {
      "text/plain": [
       "4.0"
      ]
     },
     "execution_count": 15,
     "metadata": {},
     "output_type": "execute_result"
    }
   ],
   "source": [
    "def NumberFunction(number):\n",
    "    return number**(1/2)\n",
    "NumberFunction(16)"
   ]
  },
  {
   "cell_type": "code",
   "execution_count": 7,
   "id": "f472de0c-29fc-4e2f-9ca1-5e5911f0af47",
   "metadata": {
    "editable": true,
    "slideshow": {
     "slide_type": ""
    },
    "tags": []
   },
   "outputs": [
    {
     "data": {
      "application/vnd.jupyter.widget-view+json": {
       "model_id": "b543413e8b634e9db73b0c24485c43c4",
       "version_major": 2,
       "version_minor": 0
      },
      "text/plain": [
       "Button(description='Show results', style=ButtonStyle())"
      ]
     },
     "metadata": {},
     "output_type": "display_data"
    },
    {
     "data": {
      "application/vnd.jupyter.widget-view+json": {
       "model_id": "65ef3671861a4fd795239978825e54f7",
       "version_major": 2,
       "version_minor": 0
      },
      "text/plain": [
       "Output()"
      ]
     },
     "metadata": {},
     "output_type": "display_data"
    }
   ],
   "source": [
    "display(button, output)"
   ]
  },
  {
   "cell_type": "code",
   "execution_count": null,
   "id": "82edda2e-dcbb-4533-bc79-127497bb9eab",
   "metadata": {
    "editable": true,
    "slideshow": {
     "slide_type": ""
    },
    "tags": []
   },
   "outputs": [],
   "source": []
  }
 ],
 "metadata": {
  "kernelspec": {
   "display_name": "Python 3 (ipykernel)",
   "language": "python",
   "name": "python3"
  },
  "language_info": {
   "codemirror_mode": {
    "name": "ipython",
    "version": 3
   },
   "file_extension": ".py",
   "mimetype": "text/x-python",
   "name": "python",
   "nbconvert_exporter": "python",
   "pygments_lexer": "ipython3",
   "version": "3.11.9"
  }
 },
 "nbformat": 4,
 "nbformat_minor": 5
}
