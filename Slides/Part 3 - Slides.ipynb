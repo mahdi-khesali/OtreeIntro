{
 "cells": [
  {
   "cell_type": "markdown",
   "id": "ace0cd64",
   "metadata": {},
   "source": [
    "# Introduction to Otree (part 3)"
   ]
  },
  {
   "cell_type": "markdown",
   "id": "95a79036",
   "metadata": {},
   "source": [
    "- [Frontend in Otree](#front)\n",
    "- [Backend in Otree](#back)\n",
    "- [Interaction between front and back](#interaction)\n",
    "- [What should we master now?](#mastering)"
   ]
  },
  {
   "cell_type": "markdown",
   "id": "46a9dba2",
   "metadata": {},
   "source": [
    "## Frontend in Otree <a class=\"anchor\" id=\"front\"></a>"
   ]
  },
  {
   "cell_type": "markdown",
   "id": "7cec7f5b",
   "metadata": {},
   "source": [
    "**Some terminology**\n",
    "- HTML: Markup language for basic designs of web pages"
   ]
  },
  {
   "cell_type": "markdown",
   "id": "3f6571cd",
   "metadata": {},
   "source": [
    "<ul>\n",
    "<li><h1>This is a big title.</h1></li>\n",
    "<li><h2>This is a smaller title.</h2></li>\n",
    "<li><h3>This is a even smaller title.</h3></li>\n",
    "<li><h4>This is the smallest title.</h4></li>\n",
    "</ul>"
   ]
  },
  {
   "cell_type": "markdown",
   "id": "f47c9204",
   "metadata": {},
   "source": [
    "**Some usage of HTML**\n",
    "- The basic structure of each page\n",
    "- Having a list \n",
    "- Including images \n",
    "- Having tabs "
   ]
  },
  {
   "cell_type": "markdown",
   "id": "4d8d77c2",
   "metadata": {},
   "source": [
    "**Example of CSS codes**"
   ]
  },
  {
   "cell_type": "markdown",
   "id": "db8aac14",
   "metadata": {},
   "source": [
    "**Some usage of CSS**"
   ]
  },
  {
   "cell_type": "markdown",
   "id": "db80717c",
   "metadata": {},
   "source": [
    "**Using CSS in Otree**"
   ]
  },
  {
   "cell_type": "code",
   "execution_count": null,
   "id": "90de8046",
   "metadata": {},
   "outputs": [],
   "source": [
    "from IPython.core.display import display, HTML\n",
    "\n",
    "html_content = \"\"\"\n",
    "<!DOCTYPE html>\n",
    "<html lang=\"en\">\n",
    "<head>\n",
    "    <meta charset=\"UTF-8\">\n",
    "    <meta name=\"viewport\" content=\"width=device-width, initial-scale=1.0\">\n",
    "    <title>Embedded CSS Example</title>\n",
    "    <style>\n",
    "        body {\n",
    "            font-family: Arial, sans-serif;\n",
    "            background-color: #f4f4f4;\n",
    "            margin: 0;\n",
    "            padding: 20px;\n",
    "        }\n",
    "        h1 {\n",
    "            color: navy;\n",
    "            text-align: center;\n",
    "        }\n",
    "        p {\n",
    "            color: #666;\n",
    "            font-size: 16px;\n",
    "        }\n",
    "        .container {\n",
    "            background-color: white;\n",
    "            padding: 20px;\n",
    "            border-radius: 8px;\n",
    "            box-shadow: 0 0 10px rgba(0, 0, 0, 0.1);\n",
    "            max-width: 600px;\n",
    "            margin: 20px auto;\n",
    "        }\n",
    "        .button {\n",
    "            display: inline-block;\n",
    "            padding: 10px 20px;\n",
    "            margin-top: 20px;\n",
    "            font-size: 16px;\n",
    "            color: white;\n",
    "            background-color: navy;\n",
    "            border: none;\n",
    "            border-radius: 4px;\n",
    "            cursor: pointer;\n",
    "            text-align: center;\n",
    "            text-decoration: none;\n",
    "        }\n",
    "        .button:hover {\n",
    "            background-color: darkblue;\n",
    "        }\n",
    "    </style>\n",
    "</head>\n",
    "<body>\n",
    "    <div class=\"container\">\n",
    "        <h1>Hello, Jupyter Notebook!</h1>\n",
    "        <p>This is an example of embedding HTML and CSS in a Jupyter Notebook.</p>\n",
    "        <a href=\"#\" class=\"button\">Click Me!</a>\n",
    "    </div>\n",
    "</body>\n",
    "</html>\n",
    "\"\"\"\n",
    "\n",
    "display(HTML(html_content))\n"
   ]
  },
  {
   "cell_type": "markdown",
   "id": "95313c1f",
   "metadata": {},
   "source": [
    "**Some terminology**\n",
    "- CSS: codes that define the style of your pages"
   ]
  },
  {
   "cell_type": "markdown",
   "id": "2ecb7f38",
   "metadata": {},
   "source": []
  },
  {
   "cell_type": "markdown",
   "id": "819cabaa",
   "metadata": {},
   "source": []
  },
  {
   "cell_type": "markdown",
   "id": "5ba40c19",
   "metadata": {},
   "source": [
    "**"
   ]
  },
  {
   "cell_type": "code",
   "execution_count": null,
   "id": "12573fc2",
   "metadata": {},
   "outputs": [],
   "source": []
  },
  {
   "cell_type": "markdown",
   "id": "0f501404",
   "metadata": {},
   "source": [
    "**Some terminology**\n",
    "- Javascript: codes that add some dynamics to your pages\n",
    "- User (participant) interacts with the page:\n",
    "    - insert an input and receive an output"
   ]
  },
  {
   "cell_type": "markdown",
   "id": "2e4695ea",
   "metadata": {},
   "source": [
    "**Some usage of JavaScripts**\n",
    "- Add dynamics  to our pages \n",
    "    - Most of real-effort tasks are based on JavaScripts \n",
    "    - Sliders in different pages are based on JavaScripts "
   ]
  },
  {
   "cell_type": "markdown",
   "id": "369ef2bf",
   "metadata": {},
   "source": [
    "**Example of Javascripts codes**"
   ]
  },
  {
   "cell_type": "markdown",
   "id": "b32662ed",
   "metadata": {},
   "source": [
    "**Example of Javascripts in Otree**"
   ]
  },
  {
   "cell_type": "markdown",
   "id": "6098654d",
   "metadata": {},
   "source": [
    "**Some terminology**\n",
    "- Django: a python baed web framework for building web applications \n",
    "- There is a difference between a web application and a website\n",
    "    -  Your experiment is a web application not a website\n",
    "    - A web application allows you to receive data, store it and return it\n",
    "    - A website cannot store some data and return it\n",
    "    - Otree is based on Django "
   ]
  },
  {
   "cell_type": "markdown",
   "id": "86e0e8a0",
   "metadata": {},
   "source": [
    "**Basic Structure of frontend in Otree**\n",
    "- _Static (Django)\n",
    "- _Template (Django)\n",
    "- Prisoner (HTML codes for our experiment)\n",
    "<br>\n",
    "<br>\n",
    "<div style=\"text-align: center;\">\n",
    "    <img src=\"images/basicStructure.png\" alt=\"Sample Image\" style=\"width:100%;\">\n",
    "</div>"
   ]
  },
  {
   "cell_type": "markdown",
   "id": "beb3be68",
   "metadata": {},
   "source": [
    "### Static "
   ]
  },
  {
   "cell_type": "markdown",
   "id": "2d76d9d1",
   "metadata": {},
   "source": [
    "**What do we put in the static folder?**\n",
    "- Everything that we do not want to change very often\n",
    "    - CSS code: visual aspects of pages  \n",
    "    - Javascripts: code for dynamic pages\n",
    "    - images"
   ]
  },
  {
   "cell_type": "markdown",
   "id": "e8f97bbf",
   "metadata": {},
   "source": []
  },
  {
   "cell_type": "markdown",
   "id": "db9d9cb4",
   "metadata": {},
   "source": [
    "### Template"
   ]
  },
  {
   "cell_type": "markdown",
   "id": "95bebc10",
   "metadata": {},
   "source": [
    "## Backend in Otree <a class=\"anchor\" id=\"back\"></a>"
   ]
  },
  {
   "cell_type": "markdown",
   "id": "97150f62",
   "metadata": {},
   "source": [
    "## Interaction  between  front and back <a class=\"anchor\" id=\"interaction\"></a>"
   ]
  },
  {
   "cell_type": "markdown",
   "id": "d891dce8-e957-4ec6-8195-905017563dd0",
   "metadata": {},
   "source": [
    "## What should we master now? <a class=\"anchor\" id=\"mastering\"></a>"
   ]
  },
  {
   "cell_type": "markdown",
   "id": "d5dc5709-d4e0-4ad1-a0fb-37aa810c0a93",
   "metadata": {},
   "source": [
    "- Backend\n",
    "    - Python as objected-oriented language\n",
    "    - Django\n",
    "- Frontend\n",
    "    - HTML and CSS: to reach desired visualisation \n",
    "    - JavaScript: for dynamic pages\n",
    "- Interaction between front and back\n",
    "    - Django  "
   ]
  },
  {
   "cell_type": "code",
   "execution_count": null,
   "id": "413b1db1-ef4a-42c4-9b26-029f54c81bb6",
   "metadata": {},
   "outputs": [],
   "source": []
  }
 ],
 "metadata": {
  "kernelspec": {
   "display_name": "Python 3 (ipykernel)",
   "language": "python",
   "name": "python3"
  },
  "language_info": {
   "codemirror_mode": {
    "name": "ipython",
    "version": 3
   },
   "file_extension": ".py",
   "mimetype": "text/x-python",
   "name": "python",
   "nbconvert_exporter": "python",
   "pygments_lexer": "ipython3",
   "version": "3.12.4"
  }
 },
 "nbformat": 4,
 "nbformat_minor": 5
}
