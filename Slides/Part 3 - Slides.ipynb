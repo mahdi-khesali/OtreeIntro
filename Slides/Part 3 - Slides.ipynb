{
 "cells": [
  {
   "cell_type": "markdown",
   "id": "ace0cd64",
   "metadata": {
    "editable": true,
    "slideshow": {
     "slide_type": "slide"
    },
    "tags": []
   },
   "source": [
    "# Introduction to Otree (part 3)"
   ]
  },
  {
   "cell_type": "markdown",
   "id": "95a79036",
   "metadata": {
    "editable": true,
    "slideshow": {
     "slide_type": "slide"
    },
    "tags": []
   },
   "source": [
    "- [Some terminology](#term)\n",
    "- [Frontend in Otree](#front)\n",
    "- [Backend in Otree](#back)\n",
    "- [Interaction between front and back](#interaction)\n",
    "- [What should we master now?](#mastering)"
   ]
  },
  {
   "cell_type": "markdown",
   "id": "46a9dba2",
   "metadata": {
    "editable": true,
    "slideshow": {
     "slide_type": ""
    },
    "tags": []
   },
   "source": [
    "## Some terminology <a class=\"anchor\" id=\"term\"></a>"
   ]
  },
  {
   "cell_type": "markdown",
   "id": "7cec7f5b",
   "metadata": {
    "editable": true,
    "slideshow": {
     "slide_type": ""
    },
    "tags": []
   },
   "source": [
    "**Some terminology**\n",
    "- HTML: Markup language for basic designs of web pages\n",
    "\n",
    "**Some usage of HTML**\n",
    "- The basic structure of each page\n",
    "- Having a list \n",
    "- Including images \n",
    "- Having tabs "
   ]
  },
  {
   "cell_type": "markdown",
   "id": "3f6571cd",
   "metadata": {
    "editable": true,
    "slideshow": {
     "slide_type": ""
    },
    "tags": []
   },
   "source": [
    "**An example of HTML code**\n",
    "- Check out the example in the example folder\n",
    "- Open it both in VS-code and with a browser"
   ]
  },
  {
   "cell_type": "markdown",
   "id": "f47c9204",
   "metadata": {
    "editable": true,
    "slideshow": {
     "slide_type": ""
    },
    "tags": []
   },
   "source": [
    "**How do HTML codes look like in Otree?**\n",
    "- Open the bargaining folder in your otree project (in VS-code and in your computer)\n",
    "- Pay attention to the files with html format and __init__.py. \n",
    "- Check out the file instruction.html"
   ]
  },
  {
   "cell_type": "markdown",
   "id": "95313c1f",
   "metadata": {
    "editable": true,
    "slideshow": {
     "slide_type": ""
    },
    "tags": []
   },
   "source": [
    "**Some terminology**\n",
    "- CSS: codes that define the style of your pages\n",
    "\n",
    "**Some usage of CSS**\n",
    "- To change the appearance of our pages "
   ]
  },
  {
   "cell_type": "markdown",
   "id": "3050c4e0-4d8e-4f65-bfc3-aaceadfa9a7c",
   "metadata": {
    "editable": true,
    "slideshow": {
     "slide_type": ""
    },
    "tags": []
   },
   "source": [
    "**An example of CSS code**\n",
    "- Check out the example in the example folder\n",
    "- Open it both in VS-code and with a browser\n",
    "- Try to click on the button"
   ]
  },
  {
   "cell_type": "markdown",
   "id": "0f501404",
   "metadata": {
    "editable": true,
    "slideshow": {
     "slide_type": ""
    },
    "tags": []
   },
   "source": [
    "**Some terminology**\n",
    "- Javascript: codes that add some dynamics to your pages\n",
    "- User (participant) interacts with the page:\n",
    "    - insert an input and receive an output"
   ]
  },
  {
   "cell_type": "markdown",
   "id": "2e4695ea",
   "metadata": {
    "editable": true,
    "slideshow": {
     "slide_type": ""
    },
    "tags": []
   },
   "source": [
    "**Some usage of JavaScripts**\n",
    "- Add dynamics  to our pages \n",
    "    - Most of real-effort tasks are based on JavaScripts \n",
    "    - Sliders in different pages are based on JavaScripts "
   ]
  },
  {
   "cell_type": "markdown",
   "id": "369ef2bf",
   "metadata": {
    "editable": true,
    "slideshow": {
     "slide_type": ""
    },
    "tags": []
   },
   "source": [
    "**Example of Javascripts codes**\n",
    "- Check out the example in the example folder"
   ]
  },
  {
   "cell_type": "markdown",
   "id": "b32662ed",
   "metadata": {
    "editable": true,
    "slideshow": {
     "slide_type": ""
    },
    "tags": []
   },
   "source": [
    "**Example of Javascripts in Otree**"
   ]
  },
  {
   "cell_type": "markdown",
   "id": "6098654d",
   "metadata": {},
   "source": [
    "**Some terminology**\n",
    "- Django: a python baed web framework for building web applications \n",
    "- There is a difference between a web application and a website\n",
    "    -  Your experiment is a web application not a website\n",
    "    - A web application allows you to receive data, store it and return it\n",
    "    - A website cannot store some data and return it\n",
    "    - Otree is based on Django "
   ]
  },
  {
   "cell_type": "markdown",
   "id": "947892c4-928b-4688-95c0-9fd5b38387ad",
   "metadata": {},
   "source": [
    "## Frontend in Otree <a class=\"anchor\" id=\"front\"></a>"
   ]
  },
  {
   "cell_type": "markdown",
   "id": "ea9963df-8463-43a6-a78d-0b92542e3bdd",
   "metadata": {
    "editable": true,
    "slideshow": {
     "slide_type": ""
    },
    "tags": []
   },
   "source": [
    "**How should we design the frontend of our game?**\n",
    "- Again the frontend is what participants see\n",
    "- It is a good idea to develop your design manually (pen and paper)\n",
    "- Think in terms of pages (what pages particpants should see)\n",
    "- You can think of pages in terms of a unit from which you move on by click on next/submit button\n",
    "- Can you tell me how many pages our mock experiment had?"
   ]
  },
  {
   "cell_type": "markdown",
   "id": "86e0e8a0",
   "metadata": {
    "editable": true,
    "slideshow": {
     "slide_type": ""
    },
    "tags": []
   },
   "source": [
    "**Basic Structure of frontend in Otree**\n",
    "- _Static (Django)\n",
    "- _Template (Django)\n",
    "- Prisoner (HTML codes for our experiment)\n",
    "<br>\n",
    "<br>\n",
    "<div style=\"text-align: center;\">\n",
    "    <img src=\"images/basicStructure.png\" alt=\"Sample Image\" style=\"width:100%;\">\n",
    "</div>"
   ]
  },
  {
   "cell_type": "markdown",
   "id": "beb3be68",
   "metadata": {
    "editable": true,
    "slideshow": {
     "slide_type": ""
    },
    "tags": []
   },
   "source": [
    "### _Static (Django specific)"
   ]
  },
  {
   "cell_type": "markdown",
   "id": "2d76d9d1",
   "metadata": {
    "editable": true,
    "slideshow": {
     "slide_type": ""
    },
    "tags": []
   },
   "source": [
    "**What do we put in the static folder?**\n",
    "- Everything that we do not want to change very often\n",
    "    - CSS code: visual aspects of pages  \n",
    "    - Javascripts: code for dynamic pages\n",
    "    - images"
   ]
  },
  {
   "cell_type": "markdown",
   "id": "db9d9cb4",
   "metadata": {
    "editable": true,
    "slideshow": {
     "slide_type": ""
    },
    "tags": []
   },
   "source": [
    "### _Template (Django specific)\n",
    "**What do we put in the static folder?**\n",
    "- Very general structures for the games that we design\n",
    "- While we try to store CSS and JavaScript codes in _static, we store the general structure of our application in this folder"
   ]
  },
  {
   "cell_type": "markdown",
   "id": "47254e32-d826-4c97-893e-4fdabad38435",
   "metadata": {
    "editable": true,
    "slideshow": {
     "slide_type": ""
    },
    "tags": []
   },
   "source": [
    "### prisoner (the application folder)\n",
    "- Check out the folder prisoner in the example folder\n",
    "- Open each file using a browser and VS-code\n",
    "- Each page is a combination of HTML codes, CSS code and some Django commands\n",
    "    - Django commands are in \"{{ }}\" \n",
    "- Again Django helps us store and recall data\n",
    "- Open the result page in the prisoner folder\n",
    "    - Let us know which is what?  \n",
    "\n",
    "<br>\n",
    "<br>\n",
    "<div style=\"text-align: center;\">\n",
    "    <img src=\"images/prisoner.png\" alt=\"Sample Image\" style=\"width:100%;\">\n",
    "</div>"
   ]
  },
  {
   "cell_type": "markdown",
   "id": "95bebc10",
   "metadata": {
    "editable": true,
    "slideshow": {
     "slide_type": ""
    },
    "tags": []
   },
   "source": [
    "## Backend in Otree <a class=\"anchor\" id=\"back\"></a>"
   ]
  },
  {
   "cell_type": "markdown",
   "id": "7272f86c-01ec-4b29-9aa5-c6b393cb3bc5",
   "metadata": {
    "editable": true,
    "slideshow": {
     "slide_type": ""
    },
    "tags": []
   },
   "source": [
    "**Main files to design backend in Otree**\n",
    "- settings.py\n",
    "- __init__.py\n",
    "- Find the place in which these two files are located.\n",
    "- What does the location of files tell us?"
   ]
  },
  {
   "cell_type": "markdown",
   "id": "3a59585b-6755-4a10-b8bf-9a59fa570898",
   "metadata": {
    "editable": true,
    "slideshow": {
     "slide_type": ""
    },
    "tags": []
   },
   "source": [
    "### Setting\n",
    "\n",
    "<br>\n",
    "<br>\n",
    "<div style=\"text-align: center;\">\n",
    "    <img src=\"images/setting_1.png\" alt=\"Sample Image\" style=\"width:100%;\">\n",
    "</div>"
   ]
  },
  {
   "cell_type": "markdown",
   "id": "36f8c5fa-da2e-4a09-bcc7-787f383e81c2",
   "metadata": {
    "editable": true,
    "slideshow": {
     "slide_type": ""
    },
    "tags": []
   },
   "source": [
    "**Session Config**\n",
    "- What is a session?\n",
    "- name\n",
    "    - How should you name your project? \n",
    "- display name\n",
    "    - Is it important? Of course\n",
    "- app_sequence\n",
    "    - More complex games  \n",
    "\n",
    "<br>\n",
    "<br>\n",
    "<div style=\"text-align: center;\">\n",
    "    <img src=\"images/setting_2.png\" alt=\"Sample Image\" style=\"width:100%;\">\n",
    "</div>"
   ]
  },
  {
   "cell_type": "markdown",
   "id": "e8b52f52",
   "metadata": {},
   "source": [
    "### Order of things in Otree\n",
    "- Python and consequently Otree are object-oriented\n",
    "    - We can define objects and these objects have features. \n",
    "\n",
    "<br>\n",
    "<br>\n",
    "<div style=\"text-align: center;\">\n",
    "    <img src=\"images/otree_order.png\" alt=\"Sample Image\" style=\"width:60%;\">\n",
    "</div>"
   ]
  },
  {
   "cell_type": "markdown",
   "id": "bff33d95-3ee6-4f38-8300-f17cbae73242",
   "metadata": {
    "editable": true,
    "slideshow": {
     "slide_type": ""
    },
    "tags": []
   },
   "source": [
    "### \\_\\_init\\_\\_.py\n",
    "\n",
    "<br>\n",
    "<br>\n",
    "<div style=\"text-align: center;\">\n",
    "    <img src=\"images/init_1.png\" alt=\"Sample Image\" style=\"width:100%;\">\n",
    "</div>"
   ]
  },
  {
   "cell_type": "markdown",
   "id": "b96863fe",
   "metadata": {},
   "source": [
    "\n"
   ]
  },
  {
   "cell_type": "markdown",
   "id": "038db819",
   "metadata": {},
   "source": [
    "**We are not free in defining any kind of features for our things in Otree**\n",
    "- Features in Otree are called fields. \n",
    "- We find all fields in an imaginary box called models. \n",
    "- Type of fields:\n",
    "    - models.BooleanField: binary \n",
    "    - models.CurrencyField\n",
    "    - models.IntegerField\n",
    "    - models.FloatField\n",
    "    - models.StringField \n",
    "    - models.LongStringField\n",
    "- Otree defines some features for our things as well:\n",
    "    - Player\n",
    "        - payoff \n",
    "- **Important point: these feature are variables that we want to see in our dataset**"
   ]
  },
  {
   "cell_type": "markdown",
   "id": "53f14dd4",
   "metadata": {},
   "source": [
    "**Features that constant across our research**\n",
    "- Endowment\n",
    "- Number of player in each group \n",
    "- etc\n",
    "\n",
    "<br>\n",
    "<br>\n",
    "<div style=\"text-align: center;\">\n",
    "    <img src=\"images/things_constant.png\" alt=\"Sample Image\" style=\"width:100%;\">\n",
    "</div>"
   ]
  },
  {
   "cell_type": "markdown",
   "id": "40001363",
   "metadata": {},
   "source": [
    "**Features that we can define at the subsession level**\n",
    "- In this case, nothing is define at the subsession level.\n",
    "- Imagine that you have a couple of parts in your experiment at you define at the subsession level. \n",
    "- You need an ID for each of subsession. \n",
    "- You define it here. \n",
    "\n",
    "<br>\n",
    "<br>\n",
    "<div style=\"text-align: center;\">\n",
    "    <img src=\"images/things_subsession.png\" alt=\"Sample Image\" style=\"width:100%;\">\n",
    "</div>"
   ]
  },
  {
   "cell_type": "markdown",
   "id": "61863138",
   "metadata": {},
   "source": [
    "**Features that are defined at the group level**\n",
    "- Imagine that we have a voting experiment and participants vote in a group. \n",
    "- The outcome of vote will be a feature for the group that we should define. \n",
    "\n",
    "<br>\n",
    "<br>\n",
    "<div style=\"text-align: center;\">\n",
    "    <img src=\"images/things_group.png\" alt=\"Sample Image\" style=\"width:100%;\">\n",
    "</div>"
   ]
  },
  {
   "cell_type": "markdown",
   "id": "f9682105",
   "metadata": {},
   "source": [
    "**Features that are defined at the player level**\n",
    "- Most of features that we define are at this level. \n",
    "\n",
    "\n",
    "<br>\n",
    "<br>\n",
    "<div style=\"text-align: center;\">\n",
    "    <img src=\"images/things_player.png\" alt=\"Sample Image\" style=\"width:100%;\">\n",
    "</div>"
   ]
  },
  {
   "cell_type": "markdown",
   "id": "e709f8bc",
   "metadata": {},
   "source": [
    "**Pages are weird animals**\n",
    "- They appear both in frontend and backend. \n",
    "- They are a part of frontend because participants see them. \n",
    "- They are a part of backend because by running them some calculations happen. \n",
    "- We have to define pages both in backend and frontend. \n",
    "    - HTML files that we saw in our project folder are the pages *created* in frontend.\n",
    "    - Pages defined in \\_\\_init\\_\\_.py are a part of backend. \n",
    "    "
   ]
  },
  {
   "cell_type": "markdown",
   "id": "41b29cc3",
   "metadata": {},
   "source": [
    "**Two more thing about pages**\n",
    "- You have to define the order of pages presented to participants at the end of \\_\\_init\\_\\_.py. \n",
    "- Pages should have the same name in all three parts:\n",
    "    - When you create them as HTML files. \n",
    "    - When you define them in \\_\\_init\\_\\_.py.\n",
    "    - When you put their titles in the order of pages. \n",
    "\n",
    "\n",
    "<br>\n",
    "<br>\n",
    "<div style=\"text-align: center;\">\n",
    "    <img src=\"images/page_sequence.png\" alt=\"Sample Image\" style=\"width:100%;\">\n",
    "</div>\n",
    "    "
   ]
  },
  {
   "cell_type": "markdown",
   "id": "97150f62",
   "metadata": {
    "editable": true,
    "slideshow": {
     "slide_type": ""
    },
    "tags": []
   },
   "source": [
    "## Interaction  between  front and back <a class=\"anchor\" id=\"interaction\"></a>"
   ]
  },
  {
   "cell_type": "markdown",
   "id": "f916bf30",
   "metadata": {},
   "source": [
    "**We need to define interactions between front and end**\n",
    "- Two steps process\n",
    "- In the backend we define which feature of what object should be displayed. \n",
    "    - We do so in the page where we want the features to be displayed. \n",
    "- We define object by \"form_model\"\n",
    "- We define thing by \"form_fields\"\n",
    "\n",
    "<br>\n",
    "<br>\n",
    "<div style=\"text-align: center;\">\n",
    "    <img src=\"images/interact_1.png\" alt=\"Sample Image\" style=\"width:100%;\">\n",
    "</div>"
   ]
  },
  {
   "cell_type": "markdown",
   "id": "983b4f9b",
   "metadata": {},
   "source": [
    "**We create a place in the frontend to display the feature.**\n",
    "- It follows the logic of Django\n",
    "<br>\n",
    "<br>\n",
    "<div style=\"text-align: center;\">\n",
    "    <img src=\"images/interact_2.png\" alt=\"Sample Image\" style=\"width:100%;\">\n",
    "</div>"
   ]
  },
  {
   "cell_type": "markdown",
   "id": "d891dce8-e957-4ec6-8195-905017563dd0",
   "metadata": {},
   "source": [
    "## What should we master now? <a class=\"anchor\" id=\"mastering\"></a>"
   ]
  },
  {
   "cell_type": "markdown",
   "id": "d5dc5709-d4e0-4ad1-a0fb-37aa810c0a93",
   "metadata": {},
   "source": [
    "- Backend\n",
    "    - Python as objected-oriented language\n",
    "    - Django\n",
    "- Frontend\n",
    "    - HTML and CSS: to reach desired visualisation \n",
    "    - JavaScript: for dynamic pages\n",
    "- Interaction between front and back\n",
    "    - Django  "
   ]
  },
  {
   "cell_type": "code",
   "execution_count": null,
   "id": "413b1db1-ef4a-42c4-9b26-029f54c81bb6",
   "metadata": {},
   "outputs": [],
   "source": []
  }
 ],
 "metadata": {
  "kernelspec": {
   "display_name": "Python 3 (ipykernel)",
   "language": "python",
   "name": "python3"
  },
  "language_info": {
   "codemirror_mode": {
    "name": "ipython",
    "version": 3
   },
   "file_extension": ".py",
   "mimetype": "text/x-python",
   "name": "python",
   "nbconvert_exporter": "python",
   "pygments_lexer": "ipython3",
   "version": "3.11.9"
  }
 },
 "nbformat": 4,
 "nbformat_minor": 5
}
