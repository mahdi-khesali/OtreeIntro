{
 "cells": [
  {
   "cell_type": "code",
   "execution_count": 1,
   "id": "e9623167",
   "metadata": {
    "editable": true,
    "slideshow": {
     "slide_type": ""
    },
    "tags": [],
    "vscode": {
     "languageId": "plaintext"
    }
   },
   "outputs": [],
   "source": [
    "import ipywidgets as widgets\n",
    "from IPython.display import display"
   ]
  },
  {
   "cell_type": "code",
   "execution_count": 2,
   "id": "62da41ad-4eb1-4854-9a63-f40fb550db52",
   "metadata": {
    "editable": true,
    "slideshow": {
     "slide_type": ""
    },
    "tags": []
   },
   "outputs": [],
   "source": [
    "# Define a place (variable) to hold the input\n",
    "input_widget = widgets.IntText(\n",
    "    value=1,\n",
    "    description='Input:',\n",
    "    disabled=False\n",
    ")\n",
    "\n",
    "# Define a place (variable) to hold the output\n",
    "output_widget = widgets.Output()\n",
    "\n",
    "\n",
    "# Function to handle changes in the input widget\n",
    "def on_value_change(change):\n",
    "    with output_widget:\n",
    "        output_widget.clear_output()\n",
    "        result = calculate_cube(change['new'])\n",
    "        print(f'The cube of {change[\"new\"]} is {result}')\n",
    "# Showing the results \n",
    "input_widget.observe(on_value_change, names='value')\n"
   ]
  },
  {
   "cell_type": "markdown",
   "id": "f4dc3a14",
   "metadata": {},
   "source": [
    "# Introduction to Otree (part 1)"
   ]
  },
  {
   "cell_type": "markdown",
   "id": "7acbba8b",
   "metadata": {},
   "source": [
    "[Four pillars of an experimental research project](#Four-pillars)\n",
    "\n",
    "[Two slides of an experiment](#back-front)"
   ]
  },
  {
   "cell_type": "markdown",
   "id": "a356184a",
   "metadata": {
    "editable": true,
    "slideshow": {
     "slide_type": "slide"
    },
    "tags": []
   },
   "source": [
    "## Four Pillars of an experimental research project <a class=\"anchor\" id=\"Four-pillars\"></a>"
   ]
  },
  {
   "cell_type": "markdown",
   "id": "960711c4",
   "metadata": {
    "editable": true,
    "slideshow": {
     "slide_type": "slide"
    },
    "tags": []
   },
   "source": [
    "**Four roles in an experimental project**\n",
    "- Researcher \n",
    "- Experimenter\n",
    "- Lab manager \n",
    "- coder \n",
    "    - Roles can be adopted with one or more than one person."
   ]
  },
  {
   "cell_type": "markdown",
   "id": "e0450a1c",
   "metadata": {},
   "source": [
    "**Researcher**\n",
    "- has designed the experiment. \n",
    "- analyse data. \n",
    "- publish a paper based on the outcome of analysing data generated through experiment. "
   ]
  },
  {
   "cell_type": "markdown",
   "id": "44f8a478",
   "metadata": {},
   "source": [
    "**Experimenter** \n",
    "- execute the experiment. \n",
    "- is you in most cases. \n",
    "- can be an experienced RAs. "
   ]
  },
  {
   "cell_type": "markdown",
   "id": "509386d1",
   "metadata": {},
   "source": [
    "**Lab manager** \n",
    "- A person who is in charge of systems. \n",
    "- In most cases: a senior experimental researcher (his/her comments on the experiment are very useful and practical)\n",
    "- Contact person for rules in a lab\n"
   ]
  },
  {
   "cell_type": "markdown",
   "id": "4a2be897",
   "metadata": {},
   "source": [
    "**coder (our focus)**\n",
    "- A person who writes a code for an experiment. \n",
    "- Basic knowledge in Python, Django and CSS"
   ]
  },
  {
   "cell_type": "markdown",
   "id": "eadcfc2e",
   "metadata": {
    "editable": true,
    "slideshow": {
     "slide_type": ""
    },
    "tags": []
   },
   "source": [
    "**Goal**\n",
    "- Make you familiar with different aspects of coding an experiment with Otree\n",
    "- You will hear about many basic concepts and their functionalities \n",
    "- We focus on the breath rather the depth "
   ]
  },
  {
   "cell_type": "markdown",
   "id": "233359b7-2cac-469d-bb7b-3d017d367b6f",
   "metadata": {
    "editable": true,
    "slideshow": {
     "slide_type": ""
    },
    "tags": []
   },
   "source": [
    "**Time to do the Task 1-1**"
   ]
  },
  {
   "cell_type": "markdown",
   "id": "87f57ac7",
   "metadata": {
    "editable": true,
    "slideshow": {
     "slide_type": ""
    },
    "tags": []
   },
   "source": [
    "## Two slides of an experiment <a class=\"anchor\" id=\"back-front\"></a>"
   ]
  },
  {
   "cell_type": "markdown",
   "id": "5de499f5",
   "metadata": {
    "editable": true,
    "slideshow": {
     "slide_type": ""
    },
    "tags": []
   },
   "source": [
    "- Every experiment has two sides:\n",
    "    - Frontend: what participants see on their screen \n",
    "    - Backend: all algorithm and calculations behind the screens.\n",
    "\n",
    "<br>\n",
    "<div style=\"text-align: center;\">\n",
    "    <img src=\"images/front-back.png\" alt=\"Sample Image\" style=\"width:50%;\">\n",
    "</div>\n"
   ]
  },
  {
   "cell_type": "markdown",
   "id": "3d7471c5",
   "metadata": {
    "editable": true,
    "slideshow": {
     "slide_type": ""
    },
    "tags": []
   },
   "source": [
    "**Example** \n",
    "- We want to program an application that returns the cube of a number entered by a participants.\n",
    "- What is the backend in the example? \n",
    "- What is the frontend in the example?"
   ]
  },
  {
   "cell_type": "markdown",
   "id": "64ea1f62-bde9-4043-bdfe-f39459cc2cda",
   "metadata": {
    "editable": true,
    "slideshow": {
     "slide_type": ""
    },
    "tags": []
   },
   "source": [
    "**A very simple example**"
   ]
  },
  {
   "cell_type": "code",
   "execution_count": 3,
   "id": "4b3294a3-d220-49d9-acc8-46365e965cb0",
   "metadata": {
    "editable": true,
    "slideshow": {
     "slide_type": ""
    },
    "tags": []
   },
   "outputs": [
    {
     "data": {
      "application/vnd.jupyter.widget-view+json": {
       "model_id": "c3f301c8c23e472c91ec0aba2d35c51a",
       "version_major": 2,
       "version_minor": 0
      },
      "text/plain": [
       "IntText(value=1, description='Input:')"
      ]
     },
     "metadata": {},
     "output_type": "display_data"
    },
    {
     "data": {
      "application/vnd.jupyter.widget-view+json": {
       "model_id": "73b0a437bac642ff895b8effe549c7cf",
       "version_major": 2,
       "version_minor": 0
      },
      "text/plain": [
       "Output()"
      ]
     },
     "metadata": {},
     "output_type": "display_data"
    }
   ],
   "source": [
    "# Display the widgets\n",
    "display(input_widget, output_widget)"
   ]
  },
  {
   "cell_type": "markdown",
   "id": "0009e9d4",
   "metadata": {
    "editable": true,
    "slideshow": {
     "slide_type": ""
    },
    "tags": []
   },
   "source": [
    "**Backend**"
   ]
  },
  {
   "cell_type": "markdown",
   "id": "a9b1bb51-8e18-4c5c-925b-36cae16ded10",
   "metadata": {
    "editable": true,
    "slideshow": {
     "slide_type": ""
    },
    "tags": []
   },
   "source": [
    "- Define the function to calculate the cube\n",
    "def calculate_cube(number):\n",
    "    return number ** 3"
   ]
  },
  {
   "cell_type": "markdown",
   "id": "5d0e1f77",
   "metadata": {
    "editable": true,
    "slideshow": {
     "slide_type": ""
    },
    "tags": []
   },
   "source": [
    "**Frontend**"
   ]
  },
  {
   "cell_type": "markdown",
   "id": "7af15e68-ffa1-4fba-96bf-47a611263362",
   "metadata": {
    "editable": true,
    "slideshow": {
     "slide_type": ""
    },
    "tags": []
   },
   "source": [
    "- Define a place (variable) to hold the input\n",
    "\n",
    "- \n",
    "input_widget = widgets.IntText(\n",
    "    value=1,\n",
    "    description='Input:',\n",
    "    disabled=False\n",
    ")\n",
    "\n",
    "- Define a place (variable) to hold the output\n",
    "output_widget = widgets.Output()\n",
    "\n",
    "\n",
    "- Function to handle changes in the input widget\n",
    "def on_value_change(change):\n",
    "    with output_widget:\n",
    "        output_widget.clear_output()\n",
    "        result = calculate_cube(change['new'])\n",
    "        print(f'The cube of {change[\"new\"]} is {result}')\n",
    "- Showing the results \n",
    "input_widget.observe(on_value_change, names='value')\n"
   ]
  }
 ],
 "metadata": {
  "kernelspec": {
   "display_name": "Python 3 (ipykernel)",
   "language": "python",
   "name": "python3"
  },
  "language_info": {
   "codemirror_mode": {
    "name": "ipython",
    "version": 3
   },
   "file_extension": ".py",
   "mimetype": "text/x-python",
   "name": "python",
   "nbconvert_exporter": "python",
   "pygments_lexer": "ipython3",
   "version": "3.11.9"
  },
  "toc": {
   "base_numbering": 0
  }
 },
 "nbformat": 4,
 "nbformat_minor": 5
}
