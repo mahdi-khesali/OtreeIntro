{
 "cells": [
  {
   "cell_type": "markdown",
   "id": "bf472ff4-9351-4f35-ba3f-5f689e6aa913",
   "metadata": {
    "editable": true,
    "raw_mimetype": "",
    "slideshow": {
     "slide_type": "slide"
    },
    "tags": []
   },
   "source": [
    "# Prerequisites for the experimental method workshop \n",
    "- Python\n",
    "- Visual Studio Code (VS Code)"
   ]
  },
  {
   "cell_type": "markdown",
   "id": "258e6c89-1b7b-424e-b338-b61353169160",
   "metadata": {
    "editable": true,
    "slideshow": {
     "slide_type": "slide"
    },
    "tags": [
     "h2"
    ]
   },
   "source": [
    "## How to install python"
   ]
  },
  {
   "cell_type": "markdown",
   "id": "8ebf112d-fc97-47f4-a58b-dc338f261310",
   "metadata": {
    "editable": true,
    "slideshow": {
     "slide_type": "slide"
    },
    "tags": []
   },
   "source": [
    "### You should check whether your computer already has python"
   ]
  },
  {
   "cell_type": "markdown",
   "id": "073334eb-0e01-4bfb-93ce-029f665edb13",
   "metadata": {
    "editable": true,
    "slideshow": {
     "slide_type": "slide"
    },
    "tags": []
   },
   "source": [
    "- Windows users\n",
    "    - Open CMD\n",
    "    - Type \"python --version\"\n",
    "- Mac users\n",
    "    - Open terminal\n",
    "    - Type \"python --version\""
   ]
  },
  {
   "cell_type": "markdown",
   "id": "05cd02e5-a556-4c1b-a17d-1947bb2149d1",
   "metadata": {
    "editable": true,
    "slideshow": {
     "slide_type": ""
    },
    "tags": []
   },
   "source": [
    "- If you get the following message, it means that you already have python on your system\n",
    "    - \"Python 3.12.4\"\n",
    "    - The version of python (3.12.4 in this case) can be different in different systems. \n",
    "- If you do not, it means that you need to install python on your system"
   ]
  },
  {
   "cell_type": "markdown",
   "id": "65ca5bdd-b3f4-4547-9c0f-0cd79f787158",
   "metadata": {
    "editable": true,
    "slideshow": {
     "slide_type": "slide"
    },
    "tags": []
   },
   "source": [
    "### Install python on your system \n",
    "- Windows users\n",
    "    - Open Microsoft Store\n",
    "    - Search for python\n",
    "    - Click install  \n",
    "- Mac users\n",
    "    - Open app Store\n",
    "    - Search for python\n",
    "    - Click install "
   ]
  },
  {
   "cell_type": "markdown",
   "id": "75d43f40-a5dd-4d81-9e6d-d7ec3f807236",
   "metadata": {
    "editable": true,
    "slideshow": {
     "slide_type": "slide"
    },
    "tags": []
   },
   "source": [
    "## How to install VS code"
   ]
  },
  {
   "cell_type": "markdown",
   "id": "2e2c0c53-9b21-487e-a7cb-5964d83153ae",
   "metadata": {
    "editable": true,
    "slideshow": {
     "slide_type": "slide"
    },
    "tags": []
   },
   "source": [
    "- Windows users\n",
    "    - Open Microsoft Store\n",
    "    - Search for Visual Studio Code\n",
    "    - Click install  \n",
    "- Mac users\n",
    "    - Open app Store\n",
    "    - Search for Visual Studio Code\n",
    "    - Click install "
   ]
  }
 ],
 "metadata": {
  "kernelspec": {
   "display_name": "Python 3 (ipykernel)",
   "language": "python",
   "name": "python3"
  },
  "language_info": {
   "codemirror_mode": {
    "name": "ipython",
    "version": 3
   },
   "file_extension": ".py",
   "mimetype": "text/x-python",
   "name": "python",
   "nbconvert_exporter": "python",
   "pygments_lexer": "ipython3",
   "version": "3.11.9"
  },
  "toc": {
   "base_numbering": 1
  }
 },
 "nbformat": 4,
 "nbformat_minor": 5
}
