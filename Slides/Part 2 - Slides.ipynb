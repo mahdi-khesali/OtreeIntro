{
 "cells": [
  {
   "cell_type": "markdown",
   "id": "27438f69-a2e0-493f-aa0b-f78ab78e1b96",
   "metadata": {
    "editable": true,
    "slideshow": {
     "slide_type": ""
    },
    "tags": []
   },
   "source": [
    "# Introduction to Otree (part 2)"
   ]
  },
  {
   "cell_type": "markdown",
   "id": "2bc5f74c",
   "metadata": {
    "editable": true,
    "slideshow": {
     "slide_type": ""
    },
    "tags": []
   },
   "source": [
    "[Setting up python on your computer](#python-computer)\n",
    "\n",
    "[Basic commands to start an Otree project](#otree-start)"
   ]
  },
  {
   "cell_type": "markdown",
   "id": "6d51f467-7e79-49de-9549-fa3b088e4be2",
   "metadata": {
    "editable": true,
    "slideshow": {
     "slide_type": ""
    },
    "tags": []
   },
   "source": [
    "## Setting up python on your computer <a class=\"anchor\" id=\"python-computer\"></a>"
   ]
  },
  {
   "cell_type": "markdown",
   "id": "0db1f6f2-1e4b-4043-8e53-0bd51b7a71a0",
   "metadata": {
    "editable": true,
    "slideshow": {
     "slide_type": ""
    },
    "tags": []
   },
   "source": [
    "**Check whether your comupter already has python**\n",
    "- Open powershell (terminal on Mac)\n",
    "- type \"python --version\"\n",
    "- If you get an error you need to install python (check the how to install python in the repository)"
   ]
  },
  {
   "cell_type": "markdown",
   "id": "9f19f0e9-8406-4fbd-944b-2151db65b862",
   "metadata": {
    "editable": true,
    "slideshow": {
     "slide_type": "slide"
    },
    "tags": []
   },
   "source": [
    "**If you see something like this, your computer already has python**"
   ]
  },
  {
   "cell_type": "code",
   "execution_count": 3,
   "id": "a9b0b1fb-cbf4-4b9b-8aed-51bc3d4dbaaf",
   "metadata": {
    "editable": true,
    "slideshow": {
     "slide_type": "fragment"
    },
    "tags": []
   },
   "outputs": [
    {
     "name": "stdout",
     "output_type": "stream",
     "text": [
      "Python 3.11.9\n"
     ]
    }
   ],
   "source": [
    "! python --version"
   ]
  },
  {
   "cell_type": "markdown",
   "id": "676947de-3deb-4e6e-abd2-8b8d366acf7c",
   "metadata": {
    "editable": true,
    "slideshow": {
     "slide_type": ""
    },
    "tags": []
   },
   "source": [
    "**A common mistake among social scientists**\n",
    "- There is a difference between powershell/command prompt (terminal in Mac) and python console\n",
    "- On the left side: powershell\n",
    "- On the right side: python console\n",
    "- Think about them in terms of different languages to talk to your computer\n",
    "  \n",
    "<br>\n",
    "<div style=\"text-align: center;\">\n",
    "    <img src=\"images/terminal_python.png\" alt=\"Sample Image\" style=\"width:150%;\">\n",
    "</div>"
   ]
  },
  {
   "cell_type": "markdown",
   "id": "ee11fdf3-b1b5-47cb-a3e6-c83f1949a498",
   "metadata": {
    "editable": true,
    "slideshow": {
     "slide_type": ""
    },
    "tags": []
   },
   "source": [
    "**Type the following code in python console**\n",
    "- print(\"This is a text to print\")\n",
    "- 2*2\n",
    "- 2**3"
   ]
  },
  {
   "cell_type": "markdown",
   "id": "865a03f2-a0d6-4d2b-b907-aa405ae89b4a",
   "metadata": {
    "editable": true,
    "slideshow": {
     "slide_type": ""
    },
    "tags": []
   },
   "source": [
    "**You also need to install VS-code**"
   ]
  },
  {
   "cell_type": "markdown",
   "id": "16feeb2d-ec19-48f6-9e6a-562975b35e36",
   "metadata": {
    "editable": true,
    "slideshow": {
     "slide_type": ""
    },
    "tags": []
   },
   "source": [
    "## Basic commands to start an Otree project <a class=\"anchor\" id=\"otree-start\"></a>"
   ]
  },
  {
   "cell_type": "markdown",
   "id": "1d6edcf5-bcf9-47fe-b8c1-f62d3ebc02bc",
   "metadata": {
    "editable": true,
    "slideshow": {
     "slide_type": "slide"
    },
    "tags": []
   },
   "source": [
    "**Open your VS-code and you already see that you can open a terminal in it.**\n",
    "- Again think about the terminal as a language by which you talk to your computer\n",
    "- Click on terminal/new terminal to open a window by which you can talk to your computer\n",
    "\n",
    "<br>\n",
    "<div style=\"text-align: center;\">\n",
    "    <img src=\"images/vsCode_termianl.png\" alt=\"Sample Image\" style=\"width:150%;\">\n",
    "</div>"
   ]
  },
  {
   "cell_type": "markdown",
   "id": "ec40ed48-d0cc-47cc-83a6-91b8fa8ce474",
   "metadata": {
    "editable": true,
    "slideshow": {
     "slide_type": ""
    },
    "tags": []
   },
   "source": [
    "**We want to use terminal to tell our computer where our otree project should be on our computer.**\n",
    "- To do so you use the command \"cd\" followed by the address on your computer.\n",
    "\n",
    "\n",
    "<br>\n",
    "<div style=\"text-align: center;\">\n",
    "    <img src=\"images/cd_command.png\" alt=\"Sample Image\" style=\"width:150%;\">\n",
    "</div>"
   ]
  },
  {
   "cell_type": "markdown",
   "id": "885be555-3b70-401a-a1b5-c867fe22464d",
   "metadata": {
    "editable": true,
    "slideshow": {
     "slide_type": ""
    },
    "tags": []
   },
   "source": [
    "**We want to create a separate environment in chosen place to talk to our computer in python langauge.**\n",
    "- This is usually called \"virtual environment\".\n",
    "- We do so the command \"python -m venv OtreeProject\"\n",
    "\n",
    "<br>\n",
    "<div style=\"text-align: center;\">\n",
    "    <img src=\"images/cd_command.png\" alt=\"Sample Image\" style=\"width:150%;\">\n",
    "</div>"
   ]
  },
  {
   "cell_type": "markdown",
   "id": "594f4cb5-feec-4fbf-a0c9-43ae90079262",
   "metadata": {
    "editable": true,
    "slideshow": {
     "slide_type": ""
    },
    "tags": []
   },
   "source": [
    "**We need to open the door of this environment.**\n",
    "- We go to the place where the environment is by the command \"cd OtreeProject\"\n",
    "- We open the door by the the command \"scripts/activate\"\n",
    "- We can see that we our in the environment by the green element in front of terminal cursor.\n",
    "- Remember we are still in terminal environment, so we should talk in the language of terminal (not in the language of python).\n",
    "\n",
    "<br>\n",
    "<div style=\"text-align: center;\">\n",
    "    <img src=\"images/start_venv.png\" alt=\"Sample Image\" style=\"width:150%;\">\n",
    "</div>"
   ]
  },
  {
   "cell_type": "markdown",
   "id": "b3a0c12e-6ee9-4c10-af1d-13460d3f32f3",
   "metadata": {
    "editable": true,
    "slideshow": {
     "slide_type": ""
    },
    "tags": []
   },
   "source": [
    "**It is the time to install otree on our computer.**\n",
    "- In the language of terminal, we install applications using the command \"pip install applicationName\"\n",
    "\n",
    "<br>\n",
    "<div style=\"text-align: center;\">\n",
    "    <img src=\"images/install_otree.png\" alt=\"Sample Image\" style=\"width:150%;\">\n",
    "</div>"
   ]
  },
  {
   "cell_type": "markdown",
   "id": "60e90bf8-9155-439f-a73b-4a5129fa9510",
   "metadata": {
    "editable": true,
    "slideshow": {
     "slide_type": ""
    },
    "tags": []
   },
   "source": [
    "**We reach the point that we want to start our first Otree project.**\n",
    "- When we talk to our computer about Otree, we always use the terminal.\n",
    "- When we talk to Otree itself (designning our experiment), we talk in python langauge.\n",
    "- We want to tell our computer to start an Otree project, therefore we use the terminal and the command \"otree startproject\".\n",
    "- otree always asks us whether we want to include the sample games. In this case we want to, therefore we press \"y\".\n",
    "\n",
    "\n",
    "<br>\n",
    "<div style=\"text-align: center;\">\n",
    "    <img src=\"images/otreeStartProject.png\" alt=\"Sample Image\" style=\"width:150%;\">\n",
    "</div>"
   ]
  },
  {
   "cell_type": "markdown",
   "id": "b6ba6e10-846d-4a0e-92cc-43236cb400f7",
   "metadata": {
    "editable": true,
    "slideshow": {
     "slide_type": ""
    },
    "tags": []
   },
   "source": [
    "**Take a look at the directory in which you created the project and you see your first otree project which includes some sample games as well.**"
   ]
  },
  {
   "cell_type": "markdown",
   "id": "167b4d84-4888-49b1-9c3b-e12d0e806911",
   "metadata": {
    "editable": true,
    "slideshow": {
     "slide_type": ""
    },
    "tags": []
   },
   "source": [
    "**One last thing for this section: we want to tell our computer to show us our otree project.**\n",
    "- To do so, we go where on project is using the command \"cd NameProject\", then we use the command \"otree devserver\".\n",
    "- We hold \"control\" on the keyboard and click on the link (http://localhost:8000/) to open admin page for our otree project \"\"\n",
    "\n",
    "<br>\n",
    "<div style=\"text-align: center;\">\n",
    "    <img src=\"images/otreeDev.png\" alt=\"Sample Image\" style=\"width:150%;\">\n",
    "</div>"
   ]
  },
  {
   "cell_type": "markdown",
   "id": "284cf64c-8181-4bdb-bca7-06d8dc9e5949",
   "metadata": {
    "editable": true,
    "slideshow": {
     "slide_type": ""
    },
    "tags": []
   },
   "source": [
    "**The next steps:**\n",
    "- We will go for a tour in the lab at the university Hamburg.\n",
    "- After our tour and coffee break, we start to take a look at the files and folders in our project. "
   ]
  },
  {
   "cell_type": "markdown",
   "id": "d97ffd1e",
   "metadata": {
    "editable": true,
    "slideshow": {
     "slide_type": ""
    },
    "tags": []
   },
   "source": [
    "## Lab tour\n",
    "- Have a pen and paper with ourselves\n",
    "- Write down the title of each pages that you see during the mock experiment (a new page appears after you click on next) \n",
    "- During the mock experiment you see some pratical tips for writing instructions. One of these tips is not followed once. Document that. \n"
   ]
  }
 ],
 "metadata": {
  "kernelspec": {
   "display_name": "Python 3 (ipykernel)",
   "language": "python",
   "name": "python3"
  },
  "language_info": {
   "codemirror_mode": {
    "name": "ipython",
    "version": 3
   },
   "file_extension": ".py",
   "mimetype": "text/x-python",
   "name": "python",
   "nbconvert_exporter": "python",
   "pygments_lexer": "ipython3",
   "version": "3.11.9"
  }
 },
 "nbformat": 4,
 "nbformat_minor": 5
}
