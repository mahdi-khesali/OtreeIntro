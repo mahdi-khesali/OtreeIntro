{
 "cells": [
  {
   "cell_type": "code",
   "execution_count": null,
   "id": "d098f4cd-9a1d-48ce-9704-fa17f353a222",
   "metadata": {},
   "outputs": [],
   "source": []
  }
 ],
 "metadata": {
  "kernelspec": {
   "display_name": "",
   "name": ""
  },
  "language_info": {
   "name": ""
  }
 },
 "nbformat": 4,
 "nbformat_minor": 5
}
